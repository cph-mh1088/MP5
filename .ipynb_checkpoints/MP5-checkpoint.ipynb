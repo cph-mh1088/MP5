{
 "cells": [
  {
   "cell_type": "markdown",
   "id": "1c4b2a88",
   "metadata": {},
   "source": [
    "### Mini project 5: Working with text"
   ]
  },
  {
   "cell_type": "markdown",
   "id": "429b58cd",
   "metadata": {},
   "source": [
    "Your tasks are the following:\n",
    "1. Collect and load text documents from various sources of one domain – e.g. some of txt, doc, csv,\n",
    "json, pdf files, web pages, or data frame attributes.\n",
    "2. Extract, clean, and transform the text from the sources, to prepare it for vectorisation.\n",
    "3. Vectorise and store the clean text in a software structure.\n",
    "4. Create a simple interactive prototype of application, which can input a text from a user and output\n",
    "the top three related pieces of texts, stored earlier, applying vector similarity approach.\n",
    "5. Optionally, integrate your application with LLM (large language model) for improving the quality\n",
    "of the language operations.\n",
    "6. Suggest various implementations of such an application."
   ]
  },
  {
   "cell_type": "markdown",
   "id": "7030a583",
   "metadata": {},
   "source": [
    "#### Enviroment"
   ]
  },
  {
   "cell_type": "code",
   "execution_count": 1,
   "id": "9e5a8516",
   "metadata": {},
   "outputs": [],
   "source": [
    "import docx\n",
    "import json\n",
    "import string\n",
    "import ctypes\n",
    "import math\n",
    "import pprint\n",
    "\n",
    "# data structure\n",
    "import numpy as np\n",
    "import pandas as pd\n",
    "\n",
    "# cosine simularity\n",
    "import cosimfunc\n",
    "from cosimfunc import cosim"
   ]
  },
  {
   "cell_type": "markdown",
   "id": "28f73712",
   "metadata": {},
   "source": [
    "#### Load data"
   ]
  },
  {
   "cell_type": "code",
   "execution_count": 2,
   "id": "17443c66",
   "metadata": {},
   "outputs": [],
   "source": [
    "# method to read text from a docx file\n",
    "def read_docx(name):\n",
    "    doc = docx.Document(name)\n",
    "    tekst = \"\\n\".join(paragraf.text for paragraf in doc.paragraphs)\n",
    "    return tekst"
   ]
  },
  {
   "cell_type": "code",
   "execution_count": 3,
   "id": "90e02336",
   "metadata": {},
   "outputs": [],
   "source": [
    "# method to read text from a json file\n",
    "def read_json(name):\n",
    "    with open(name, \"r\", encoding=\"utf-8\") as json_fil:\n",
    "        data = json.load(json_fil)\n",
    "    return data"
   ]
  },
  {
   "cell_type": "code",
   "execution_count": 4,
   "id": "d1d0d0e2",
   "metadata": {},
   "outputs": [],
   "source": [
    "# read data\n",
    "dad_jokes = read_docx(\"farjokes.docx\")\n",
    "dog_jokes = read_json(\"hunde_jokes.json\")"
   ]
  },
  {
   "cell_type": "markdown",
   "id": "2d913b21",
   "metadata": {},
   "source": [
    "#### Clean data"
   ]
  },
  {
   "cell_type": "code",
   "execution_count": 5,
   "id": "430ff315",
   "metadata": {},
   "outputs": [],
   "source": [
    "# method to remove regex signs\n",
    "def clean(text):\n",
    "    text = text.lower()\n",
    "    \n",
    "    # string.punctuation removes !\"#$%&\\'()*+,-./:;?@[\\\\]^_{|}~`\n",
    "    PUNCT = string.punctuation\n",
    "    text = text.translate(str.maketrans('', '', PUNCT))\n",
    "    return text"
   ]
  },
  {
   "cell_type": "code",
   "execution_count": 6,
   "id": "5141842b",
   "metadata": {},
   "outputs": [],
   "source": [
    "# split into sentences\n",
    "dad_jokes_split = dad_jokes.split('\\n')"
   ]
  },
  {
   "cell_type": "code",
   "execution_count": 7,
   "id": "64007da0",
   "metadata": {},
   "outputs": [
    {
     "name": "stdout",
     "output_type": "stream",
     "text": [
      "Hvorfor gik faren ind i butikken med et ur? Han ville købe tid!\n"
     ]
    }
   ],
   "source": [
    "# first dad joke\n",
    "first_dad_joke = dad_jokes_split[0]\n",
    "print(first_dad_joke)"
   ]
  },
  {
   "cell_type": "code",
   "execution_count": 8,
   "id": "d2deb446",
   "metadata": {},
   "outputs": [
    {
     "name": "stdout",
     "output_type": "stream",
     "text": [
      "Hvorfor kan ikke hunde spille poker i Afrika? Fordi der er for mange cheetahs!\n"
     ]
    }
   ],
   "source": [
    "# first dog joke\n",
    "first_dog_joke = dog_jokes['hunde_jokes'][0]['joke']\n",
    "print(first_dog_joke)"
   ]
  },
  {
   "cell_type": "markdown",
   "id": "83cbe398",
   "metadata": {},
   "source": [
    "### Bag of words"
   ]
  },
  {
   "cell_type": "code",
   "execution_count": 9,
   "id": "4b933130",
   "metadata": {},
   "outputs": [],
   "source": [
    "sent1 = first_dad_joke.split(\" \")\n",
    "sent2 = first_dog_joke.split(\" \")"
   ]
  },
  {
   "cell_type": "code",
   "execution_count": 10,
   "id": "fc2c9f7b",
   "metadata": {},
   "outputs": [
    {
     "name": "stdout",
     "output_type": "stream",
     "text": [
      "['Hvorfor', 'gik', 'faren', 'ind', 'i', 'butikken', 'med', 'et', 'ur?', 'Han', 'ville', 'købe', 'tid!']\n",
      "['Hvorfor', 'kan', 'ikke', 'hunde', 'spille', 'poker', 'i', 'Afrika?', 'Fordi', 'der', 'er', 'for', 'mange', 'cheetahs!']\n"
     ]
    }
   ],
   "source": [
    "print(sent1)\n",
    "print(sent2)"
   ]
  },
  {
   "cell_type": "markdown",
   "id": "cae34f8a",
   "metadata": {},
   "source": [
    "#### Corpus of Terms"
   ]
  },
  {
   "cell_type": "code",
   "execution_count": 11,
   "id": "1b298d0e",
   "metadata": {},
   "outputs": [
    {
     "name": "stdout",
     "output_type": "stream",
     "text": [
      "{'Fordi', 'ville', 'er', 'et', 'butikken', 'Hvorfor', 'cheetahs!', 'i', 'ur?', 'poker', 'kan', 'tid!', 'hunde', 'for', 'mange', 'faren', 'spille', 'der', 'Afrika?', 'ind', 'ikke', 'med', 'Han', 'gik', 'købe'}\n"
     ]
    }
   ],
   "source": [
    "# All words appearing in all documents\n",
    "# union() removes duplications\n",
    "corpus = set(sent1).union(set(sent2))\n",
    "print(corpus)"
   ]
  },
  {
   "cell_type": "code",
   "execution_count": 12,
   "id": "8facbe83",
   "metadata": {},
   "outputs": [
    {
     "data": {
      "text/plain": [
       "25"
      ]
     },
     "execution_count": 12,
     "metadata": {},
     "output_type": "execute_result"
    }
   ],
   "source": [
    "# corpus size\n",
    "n = len(corpus)\n",
    "n"
   ]
  },
  {
   "cell_type": "markdown",
   "id": "333ddfce",
   "metadata": {},
   "source": [
    "### Method 1: Binary vectorisation "
   ]
  },
  {
   "cell_type": "markdown",
   "id": "89de2de2",
   "metadata": {},
   "source": [
    "Check if a words appears in a sentence (document).\n",
    "- write 1 if it does, write 0 if not\n",
    "\n",
    "Store the findings in a dicetionary (key value)\n",
    "- the word is akey, the appearance of it is a value \n"
   ]
  },
  {
   "cell_type": "code",
   "execution_count": 13,
   "id": "f0afc14e",
   "metadata": {},
   "outputs": [],
   "source": [
    "# Binary vector of word appearance in a sentence\n",
    "def vect(sent):\n",
    "    # create new dict and place zeros in it\n",
    "    mydict = dict.fromkeys(corpus, 0) \n",
    "    \n",
    "    # code each word's appearance in the sentence with 1\n",
    "    for word in sent:\n",
    "        mydict[word] = 1\n",
    "    return mydict    "
   ]
  },
  {
   "cell_type": "code",
   "execution_count": 14,
   "id": "4d1a4aeb",
   "metadata": {},
   "outputs": [
    {
     "data": {
      "text/plain": [
       "{'Fordi': 0,\n",
       " 'ville': 1,\n",
       " 'er': 0,\n",
       " 'et': 1,\n",
       " 'butikken': 1,\n",
       " 'Hvorfor': 1,\n",
       " 'cheetahs!': 0,\n",
       " 'i': 1,\n",
       " 'ur?': 1,\n",
       " 'poker': 0,\n",
       " 'kan': 0,\n",
       " 'tid!': 1,\n",
       " 'hunde': 0,\n",
       " 'for': 0,\n",
       " 'mange': 0,\n",
       " 'faren': 1,\n",
       " 'spille': 0,\n",
       " 'der': 0,\n",
       " 'Afrika?': 0,\n",
       " 'ind': 1,\n",
       " 'ikke': 0,\n",
       " 'med': 1,\n",
       " 'Han': 1,\n",
       " 'gik': 1,\n",
       " 'købe': 1}"
      ]
     },
     "execution_count": 14,
     "metadata": {},
     "output_type": "execute_result"
    }
   ],
   "source": [
    "# binarise sentence 1\n",
    "dict1 = vect(sent1)\n",
    "dict1"
   ]
  },
  {
   "cell_type": "code",
   "execution_count": 15,
   "id": "5529dfa5",
   "metadata": {},
   "outputs": [
    {
     "data": {
      "text/plain": [
       "{'Fordi': 1,\n",
       " 'ville': 0,\n",
       " 'er': 1,\n",
       " 'et': 0,\n",
       " 'butikken': 0,\n",
       " 'Hvorfor': 1,\n",
       " 'cheetahs!': 1,\n",
       " 'i': 1,\n",
       " 'ur?': 0,\n",
       " 'poker': 1,\n",
       " 'kan': 1,\n",
       " 'tid!': 0,\n",
       " 'hunde': 1,\n",
       " 'for': 1,\n",
       " 'mange': 1,\n",
       " 'faren': 0,\n",
       " 'spille': 1,\n",
       " 'der': 1,\n",
       " 'Afrika?': 1,\n",
       " 'ind': 0,\n",
       " 'ikke': 1,\n",
       " 'med': 0,\n",
       " 'Han': 0,\n",
       " 'gik': 0,\n",
       " 'købe': 0}"
      ]
     },
     "execution_count": 15,
     "metadata": {},
     "output_type": "execute_result"
    }
   ],
   "source": [
    "# binarise sentence 2\n",
    "dict2 = vect(sent2)\n",
    "dict2"
   ]
  },
  {
   "cell_type": "code",
   "execution_count": 16,
   "id": "09ff9882",
   "metadata": {},
   "outputs": [
    {
     "data": {
      "text/html": [
       "<div>\n",
       "<style scoped>\n",
       "    .dataframe tbody tr th:only-of-type {\n",
       "        vertical-align: middle;\n",
       "    }\n",
       "\n",
       "    .dataframe tbody tr th {\n",
       "        vertical-align: top;\n",
       "    }\n",
       "\n",
       "    .dataframe thead th {\n",
       "        text-align: right;\n",
       "    }\n",
       "</style>\n",
       "<table border=\"1\" class=\"dataframe\">\n",
       "  <thead>\n",
       "    <tr style=\"text-align: right;\">\n",
       "      <th></th>\n",
       "      <th>Fordi</th>\n",
       "      <th>ville</th>\n",
       "      <th>er</th>\n",
       "      <th>et</th>\n",
       "      <th>butikken</th>\n",
       "      <th>Hvorfor</th>\n",
       "      <th>cheetahs!</th>\n",
       "      <th>i</th>\n",
       "      <th>ur?</th>\n",
       "      <th>poker</th>\n",
       "      <th>...</th>\n",
       "      <th>faren</th>\n",
       "      <th>spille</th>\n",
       "      <th>der</th>\n",
       "      <th>Afrika?</th>\n",
       "      <th>ind</th>\n",
       "      <th>ikke</th>\n",
       "      <th>med</th>\n",
       "      <th>Han</th>\n",
       "      <th>gik</th>\n",
       "      <th>købe</th>\n",
       "    </tr>\n",
       "  </thead>\n",
       "  <tbody>\n",
       "    <tr>\n",
       "      <th>0</th>\n",
       "      <td>0</td>\n",
       "      <td>1</td>\n",
       "      <td>0</td>\n",
       "      <td>1</td>\n",
       "      <td>1</td>\n",
       "      <td>1</td>\n",
       "      <td>0</td>\n",
       "      <td>1</td>\n",
       "      <td>1</td>\n",
       "      <td>0</td>\n",
       "      <td>...</td>\n",
       "      <td>1</td>\n",
       "      <td>0</td>\n",
       "      <td>0</td>\n",
       "      <td>0</td>\n",
       "      <td>1</td>\n",
       "      <td>0</td>\n",
       "      <td>1</td>\n",
       "      <td>1</td>\n",
       "      <td>1</td>\n",
       "      <td>1</td>\n",
       "    </tr>\n",
       "    <tr>\n",
       "      <th>1</th>\n",
       "      <td>1</td>\n",
       "      <td>0</td>\n",
       "      <td>1</td>\n",
       "      <td>0</td>\n",
       "      <td>0</td>\n",
       "      <td>1</td>\n",
       "      <td>1</td>\n",
       "      <td>1</td>\n",
       "      <td>0</td>\n",
       "      <td>1</td>\n",
       "      <td>...</td>\n",
       "      <td>0</td>\n",
       "      <td>1</td>\n",
       "      <td>1</td>\n",
       "      <td>1</td>\n",
       "      <td>0</td>\n",
       "      <td>1</td>\n",
       "      <td>0</td>\n",
       "      <td>0</td>\n",
       "      <td>0</td>\n",
       "      <td>0</td>\n",
       "    </tr>\n",
       "  </tbody>\n",
       "</table>\n",
       "<p>2 rows × 25 columns</p>\n",
       "</div>"
      ],
      "text/plain": [
       "   Fordi  ville  er  et  butikken  Hvorfor  cheetahs!  i  ur?  poker  ...  \\\n",
       "0      0      1   0   1         1        1          0  1    1      0  ...   \n",
       "1      1      0   1   0         0        1          1  1    0      1  ...   \n",
       "\n",
       "   faren  spille  der  Afrika?  ind  ikke  med  Han  gik  købe  \n",
       "0      1       0    0        0    1     0    1    1    1     1  \n",
       "1      0       1    1        1    0     1    0    0    0     0  \n",
       "\n",
       "[2 rows x 25 columns]"
      ]
     },
     "execution_count": 16,
     "metadata": {},
     "output_type": "execute_result"
    }
   ],
   "source": [
    "# Store the data into DataFrame\n",
    "df = pd.DataFrame([dict1, dict2])\n",
    "df"
   ]
  },
  {
   "cell_type": "code",
   "execution_count": 17,
   "id": "7845d15c",
   "metadata": {},
   "outputs": [],
   "source": [
    "ar = df.to_numpy() "
   ]
  },
  {
   "cell_type": "code",
   "execution_count": 18,
   "id": "a8ba65c6",
   "metadata": {},
   "outputs": [
    {
     "name": "stdout",
     "output_type": "stream",
     "text": [
      "Cosine similarity:  0.14824986333222026\n"
     ]
    },
    {
     "data": {
      "text/plain": [
       "0.14824986333222026"
      ]
     },
     "execution_count": 18,
     "metadata": {},
     "output_type": "execute_result"
    }
   ],
   "source": [
    "# Test the similarity\n",
    "cosim(ar[0], ar[1])"
   ]
  },
  {
   "cell_type": "markdown",
   "id": "1c3588e3",
   "metadata": {},
   "source": [
    "## Method 2: Word Importance"
   ]
  },
  {
   "cell_type": "markdown",
   "id": "ad17daad",
   "metadata": {},
   "source": [
    "- TF - term frequency - how frequest is the appearance of a term (word) in a document\n",
    "- DF - document frequency - number of documents containing the term\n",
    "- IDF - inverse term frequency - how big part of all documents contain the term\n",
    "- TF-IDF - an integrated measure for the importance of a term - multiply TF x IDF to find it.\n",
    "\n",
    "term = word"
   ]
  },
  {
   "cell_type": "markdown",
   "id": "17c2b4ef",
   "metadata": {},
   "source": [
    "TF can be measured in different ways:\n",
    "\n",
    "absolute number of times the word appears in a document\n",
    "relative frequency - count of occurences divided by number of words in the document\n",
    "logarithmically scaled frequency (e.g. log(1 + count))"
   ]
  },
  {
   "cell_type": "markdown",
   "id": "217bf8d9",
   "metadata": {},
   "source": [
    "### 2.1 Count Vectorisation"
   ]
  },
  {
   "cell_type": "code",
   "execution_count": 19,
   "id": "a1752885",
   "metadata": {},
   "outputs": [],
   "source": [
    "# Create count vector from a sentence, telling the frequency of word appearance\n",
    "def cvect(sent):\n",
    "    \n",
    "    # creates the dict with the corpus as keys\n",
    "    mydict = dict.fromkeys(corpus, 0) \n",
    "    \n",
    "    # count the occurance of each word\n",
    "    for word in sent:\n",
    "        mydict[word] += 1\n",
    "    return mydict    "
   ]
  },
  {
   "cell_type": "code",
   "execution_count": 20,
   "id": "86782bc1",
   "metadata": {},
   "outputs": [],
   "source": [
    "dict1 = cvect(sent1)\n",
    "dict2 = cvect(sent2)"
   ]
  },
  {
   "cell_type": "code",
   "execution_count": 21,
   "id": "353eaad1",
   "metadata": {},
   "outputs": [
    {
     "data": {
      "text/html": [
       "<div>\n",
       "<style scoped>\n",
       "    .dataframe tbody tr th:only-of-type {\n",
       "        vertical-align: middle;\n",
       "    }\n",
       "\n",
       "    .dataframe tbody tr th {\n",
       "        vertical-align: top;\n",
       "    }\n",
       "\n",
       "    .dataframe thead th {\n",
       "        text-align: right;\n",
       "    }\n",
       "</style>\n",
       "<table border=\"1\" class=\"dataframe\">\n",
       "  <thead>\n",
       "    <tr style=\"text-align: right;\">\n",
       "      <th></th>\n",
       "      <th>Fordi</th>\n",
       "      <th>ville</th>\n",
       "      <th>er</th>\n",
       "      <th>et</th>\n",
       "      <th>butikken</th>\n",
       "      <th>Hvorfor</th>\n",
       "      <th>cheetahs!</th>\n",
       "      <th>i</th>\n",
       "      <th>ur?</th>\n",
       "      <th>poker</th>\n",
       "      <th>...</th>\n",
       "      <th>faren</th>\n",
       "      <th>spille</th>\n",
       "      <th>der</th>\n",
       "      <th>Afrika?</th>\n",
       "      <th>ind</th>\n",
       "      <th>ikke</th>\n",
       "      <th>med</th>\n",
       "      <th>Han</th>\n",
       "      <th>gik</th>\n",
       "      <th>købe</th>\n",
       "    </tr>\n",
       "  </thead>\n",
       "  <tbody>\n",
       "    <tr>\n",
       "      <th>0</th>\n",
       "      <td>0</td>\n",
       "      <td>1</td>\n",
       "      <td>0</td>\n",
       "      <td>1</td>\n",
       "      <td>1</td>\n",
       "      <td>1</td>\n",
       "      <td>0</td>\n",
       "      <td>1</td>\n",
       "      <td>1</td>\n",
       "      <td>0</td>\n",
       "      <td>...</td>\n",
       "      <td>1</td>\n",
       "      <td>0</td>\n",
       "      <td>0</td>\n",
       "      <td>0</td>\n",
       "      <td>1</td>\n",
       "      <td>0</td>\n",
       "      <td>1</td>\n",
       "      <td>1</td>\n",
       "      <td>1</td>\n",
       "      <td>1</td>\n",
       "    </tr>\n",
       "    <tr>\n",
       "      <th>1</th>\n",
       "      <td>1</td>\n",
       "      <td>0</td>\n",
       "      <td>1</td>\n",
       "      <td>0</td>\n",
       "      <td>0</td>\n",
       "      <td>1</td>\n",
       "      <td>1</td>\n",
       "      <td>1</td>\n",
       "      <td>0</td>\n",
       "      <td>1</td>\n",
       "      <td>...</td>\n",
       "      <td>0</td>\n",
       "      <td>1</td>\n",
       "      <td>1</td>\n",
       "      <td>1</td>\n",
       "      <td>0</td>\n",
       "      <td>1</td>\n",
       "      <td>0</td>\n",
       "      <td>0</td>\n",
       "      <td>0</td>\n",
       "      <td>0</td>\n",
       "    </tr>\n",
       "  </tbody>\n",
       "</table>\n",
       "<p>2 rows × 25 columns</p>\n",
       "</div>"
      ],
      "text/plain": [
       "   Fordi  ville  er  et  butikken  Hvorfor  cheetahs!  i  ur?  poker  ...  \\\n",
       "0      0      1   0   1         1        1          0  1    1      0  ...   \n",
       "1      1      0   1   0         0        1          1  1    0      1  ...   \n",
       "\n",
       "   faren  spille  der  Afrika?  ind  ikke  med  Han  gik  købe  \n",
       "0      1       0    0        0    1     0    1    1    1     1  \n",
       "1      0       1    1        1    0     1    0    0    0     0  \n",
       "\n",
       "[2 rows x 25 columns]"
      ]
     },
     "execution_count": 21,
     "metadata": {},
     "output_type": "execute_result"
    }
   ],
   "source": [
    "# collect the dictionaires in a data frame\n",
    "dfc = pd.DataFrame([dict1, dict2])\n",
    "dfc"
   ]
  },
  {
   "cell_type": "markdown",
   "id": "8494e452",
   "metadata": {},
   "source": [
    "Re-calculate the similarity"
   ]
  },
  {
   "cell_type": "code",
   "execution_count": 22,
   "id": "1a61abb0",
   "metadata": {},
   "outputs": [
    {
     "data": {
      "text/plain": [
       "array([[0, 1, 0, 1, 1, 1, 0, 1, 1, 0, 0, 1, 0, 0, 0, 1, 0, 0, 0, 1, 0, 1,\n",
       "        1, 1, 1],\n",
       "       [1, 0, 1, 0, 0, 1, 1, 1, 0, 1, 1, 0, 1, 1, 1, 0, 1, 1, 1, 0, 1, 0,\n",
       "        0, 0, 0]])"
      ]
     },
     "execution_count": 22,
     "metadata": {},
     "output_type": "execute_result"
    }
   ],
   "source": [
    "# Store the binary values into array\n",
    "arc = dfc.to_numpy()\n",
    "arc"
   ]
  },
  {
   "cell_type": "code",
   "execution_count": 23,
   "id": "d877ddf7",
   "metadata": {},
   "outputs": [
    {
     "name": "stdout",
     "output_type": "stream",
     "text": [
      "Cosine similarity:  0.14824986333222026\n"
     ]
    },
    {
     "data": {
      "text/plain": [
       "0.14824986333222026"
      ]
     },
     "execution_count": 23,
     "metadata": {},
     "output_type": "execute_result"
    }
   ],
   "source": [
    "# Test the similarity\n",
    "cosim(arc[0], arc[1])"
   ]
  },
  {
   "cell_type": "markdown",
   "id": "c53a1b7b",
   "metadata": {},
   "source": [
    "### 2.2  Term Frequency\n",
    "Relative TF\n",
    "\n",
    "tf(t,d) = count of t in d / number of words in d"
   ]
  },
  {
   "cell_type": "code",
   "execution_count": 24,
   "id": "6a4495c5",
   "metadata": {},
   "outputs": [],
   "source": [
    "# Recalculate the word appearance as a proportion of all words in the document\n",
    "def computeTF(mydict, n):\n",
    "    # New empty dict for the results of recalculation\n",
    "    tfDict = {}\n",
    "    \n",
    "    for word, wcount in mydict.items():\n",
    "        # calculate the proportion\n",
    "        tfDict[word] = wcount/float(n) \n",
    "    return(tfDict)"
   ]
  },
  {
   "cell_type": "code",
   "execution_count": 25,
   "id": "bce01b6d",
   "metadata": {},
   "outputs": [],
   "source": [
    "# call the function for both sets\n",
    "tf1 = computeTF(dict1, len(sent1))\n",
    "tf2 = computeTF(dict2, len(sent2))"
   ]
  },
  {
   "cell_type": "code",
   "execution_count": 26,
   "id": "9941e286",
   "metadata": {},
   "outputs": [
    {
     "data": {
      "text/html": [
       "<div>\n",
       "<style scoped>\n",
       "    .dataframe tbody tr th:only-of-type {\n",
       "        vertical-align: middle;\n",
       "    }\n",
       "\n",
       "    .dataframe tbody tr th {\n",
       "        vertical-align: top;\n",
       "    }\n",
       "\n",
       "    .dataframe thead th {\n",
       "        text-align: right;\n",
       "    }\n",
       "</style>\n",
       "<table border=\"1\" class=\"dataframe\">\n",
       "  <thead>\n",
       "    <tr style=\"text-align: right;\">\n",
       "      <th></th>\n",
       "      <th>Fordi</th>\n",
       "      <th>ville</th>\n",
       "      <th>er</th>\n",
       "      <th>et</th>\n",
       "      <th>butikken</th>\n",
       "      <th>Hvorfor</th>\n",
       "      <th>cheetahs!</th>\n",
       "      <th>i</th>\n",
       "      <th>ur?</th>\n",
       "      <th>poker</th>\n",
       "      <th>...</th>\n",
       "      <th>faren</th>\n",
       "      <th>spille</th>\n",
       "      <th>der</th>\n",
       "      <th>Afrika?</th>\n",
       "      <th>ind</th>\n",
       "      <th>ikke</th>\n",
       "      <th>med</th>\n",
       "      <th>Han</th>\n",
       "      <th>gik</th>\n",
       "      <th>købe</th>\n",
       "    </tr>\n",
       "  </thead>\n",
       "  <tbody>\n",
       "    <tr>\n",
       "      <th>0</th>\n",
       "      <td>0.000000</td>\n",
       "      <td>0.076923</td>\n",
       "      <td>0.000000</td>\n",
       "      <td>0.076923</td>\n",
       "      <td>0.076923</td>\n",
       "      <td>0.076923</td>\n",
       "      <td>0.000000</td>\n",
       "      <td>0.076923</td>\n",
       "      <td>0.076923</td>\n",
       "      <td>0.000000</td>\n",
       "      <td>...</td>\n",
       "      <td>0.076923</td>\n",
       "      <td>0.000000</td>\n",
       "      <td>0.000000</td>\n",
       "      <td>0.000000</td>\n",
       "      <td>0.076923</td>\n",
       "      <td>0.000000</td>\n",
       "      <td>0.076923</td>\n",
       "      <td>0.076923</td>\n",
       "      <td>0.076923</td>\n",
       "      <td>0.076923</td>\n",
       "    </tr>\n",
       "    <tr>\n",
       "      <th>1</th>\n",
       "      <td>0.071429</td>\n",
       "      <td>0.000000</td>\n",
       "      <td>0.071429</td>\n",
       "      <td>0.000000</td>\n",
       "      <td>0.000000</td>\n",
       "      <td>0.071429</td>\n",
       "      <td>0.071429</td>\n",
       "      <td>0.071429</td>\n",
       "      <td>0.000000</td>\n",
       "      <td>0.071429</td>\n",
       "      <td>...</td>\n",
       "      <td>0.000000</td>\n",
       "      <td>0.071429</td>\n",
       "      <td>0.071429</td>\n",
       "      <td>0.071429</td>\n",
       "      <td>0.000000</td>\n",
       "      <td>0.071429</td>\n",
       "      <td>0.000000</td>\n",
       "      <td>0.000000</td>\n",
       "      <td>0.000000</td>\n",
       "      <td>0.000000</td>\n",
       "    </tr>\n",
       "  </tbody>\n",
       "</table>\n",
       "<p>2 rows × 25 columns</p>\n",
       "</div>"
      ],
      "text/plain": [
       "      Fordi     ville        er        et  butikken   Hvorfor  cheetahs!  \\\n",
       "0  0.000000  0.076923  0.000000  0.076923  0.076923  0.076923   0.000000   \n",
       "1  0.071429  0.000000  0.071429  0.000000  0.000000  0.071429   0.071429   \n",
       "\n",
       "          i       ur?     poker  ...     faren    spille       der   Afrika?  \\\n",
       "0  0.076923  0.076923  0.000000  ...  0.076923  0.000000  0.000000  0.000000   \n",
       "1  0.071429  0.000000  0.071429  ...  0.000000  0.071429  0.071429  0.071429   \n",
       "\n",
       "        ind      ikke       med       Han       gik      købe  \n",
       "0  0.076923  0.000000  0.076923  0.076923  0.076923  0.076923  \n",
       "1  0.000000  0.071429  0.000000  0.000000  0.000000  0.000000  \n",
       "\n",
       "[2 rows x 25 columns]"
      ]
     },
     "execution_count": 26,
     "metadata": {},
     "output_type": "execute_result"
    }
   ],
   "source": [
    "# store the two vectors into dataframe\n",
    "tff = pd.DataFrame([tf1, tf2])\n",
    "tff"
   ]
  },
  {
   "cell_type": "markdown",
   "id": "12a44a83",
   "metadata": {},
   "source": [
    "TF doen't mean much. 10 times higher frequency doesn't mean 10 times more important term."
   ]
  },
  {
   "cell_type": "code",
   "execution_count": 27,
   "id": "b30932bb",
   "metadata": {},
   "outputs": [],
   "source": [
    "# compute similarity"
   ]
  },
  {
   "cell_type": "code",
   "execution_count": 28,
   "id": "63639730",
   "metadata": {},
   "outputs": [],
   "source": [
    "# Store the binary values into array\n",
    "art = tff.to_numpy()"
   ]
  },
  {
   "cell_type": "code",
   "execution_count": 29,
   "id": "0515b42c",
   "metadata": {},
   "outputs": [
    {
     "name": "stdout",
     "output_type": "stream",
     "text": [
      "Cosine similarity:  0.14824986333222023\n"
     ]
    },
    {
     "data": {
      "text/plain": [
       "0.14824986333222023"
      ]
     },
     "execution_count": 29,
     "metadata": {},
     "output_type": "execute_result"
    }
   ],
   "source": [
    "# Test the similarity\n",
    "cosim(art[0], art[1])"
   ]
  },
  {
   "cell_type": "markdown",
   "id": "8379af23",
   "metadata": {},
   "source": [
    "### 2.3 DF and IDF"
   ]
  },
  {
   "cell_type": "markdown",
   "id": "e5379d8b",
   "metadata": {},
   "source": [
    "If a word occurs many times in one document, but also in other documents, it may not be important, but just frequent . IDF determines how common a word is amongst the whole corpus."
   ]
  },
  {
   "cell_type": "code",
   "execution_count": 30,
   "id": "32c04de4",
   "metadata": {},
   "outputs": [],
   "source": [
    "# IDF - inverse document frequency - measures the informativeness of term t\n",
    "# DF - number of documents containing the term\n",
    "# N - number of all documents\n",
    "# D - corpus of all words\n",
    "\n",
    "# idf(t, D) = N/df\n",
    "\n",
    "def computeIDF(allDocs):\n",
    "    # number of documents\n",
    "    N = len(allDocs) \n",
    "\n",
    "    # create empty dict, put the words in as keys and 0 as value\n",
    "    idf = {}\n",
    "    idf = dict.fromkeys(allDocs[0].keys(), 0)    \n",
    "    \n",
    "    # check all docs \n",
    "    for doc in allDocs:\n",
    "        # check all words \n",
    "        for word, wcount in doc.items():\n",
    "            # count the doc if the word appears in it\n",
    "            if wcount > 0:\n",
    "                idf[word] += 1\n",
    "    \n",
    "    # make correction in the counting to avoid eventual division by zero: idf(t) = log10(N/(df + 1))\n",
    "    for word, wcount in idf.items():\n",
    "        idf[word] = math.log10(N/(float(wcount)) + 1)\n",
    "        \n",
    "    return(idf)"
   ]
  },
  {
   "cell_type": "code",
   "execution_count": 31,
   "id": "9881f0d6",
   "metadata": {},
   "outputs": [],
   "source": [
    "# test\n",
    "idfs = computeIDF([dict1, dict2])"
   ]
  },
  {
   "cell_type": "markdown",
   "id": "d3512757",
   "metadata": {},
   "source": [
    "The closer the IDF is to 0, the more common it is."
   ]
  },
  {
   "cell_type": "code",
   "execution_count": 32,
   "id": "e799846d",
   "metadata": {},
   "outputs": [
    {
     "name": "stdout",
     "output_type": "stream",
     "text": [
      "{'Afrika?': 0.47712125471966244,\n",
      " 'Fordi': 0.47712125471966244,\n",
      " 'Han': 0.47712125471966244,\n",
      " 'Hvorfor': 0.3010299956639812,\n",
      " 'butikken': 0.47712125471966244,\n",
      " 'cheetahs!': 0.47712125471966244,\n",
      " 'der': 0.47712125471966244,\n",
      " 'er': 0.47712125471966244,\n",
      " 'et': 0.47712125471966244,\n",
      " 'faren': 0.47712125471966244,\n",
      " 'for': 0.47712125471966244,\n",
      " 'gik': 0.47712125471966244,\n",
      " 'hunde': 0.47712125471966244,\n",
      " 'i': 0.3010299956639812,\n",
      " 'ikke': 0.47712125471966244,\n",
      " 'ind': 0.47712125471966244,\n",
      " 'kan': 0.47712125471966244,\n",
      " 'købe': 0.47712125471966244,\n",
      " 'mange': 0.47712125471966244,\n",
      " 'med': 0.47712125471966244,\n",
      " 'poker': 0.47712125471966244,\n",
      " 'spille': 0.47712125471966244,\n",
      " 'tid!': 0.47712125471966244,\n",
      " 'ur?': 0.47712125471966244,\n",
      " 'ville': 0.47712125471966244}\n"
     ]
    }
   ],
   "source": [
    "pprint.pprint(idfs)"
   ]
  },
  {
   "cell_type": "markdown",
   "id": "d1b9d69a",
   "metadata": {},
   "source": [
    "### 2.4 TF-IDF\n",
    "TF-IDF determines how relevant a term is in a given document"
   ]
  },
  {
   "cell_type": "code",
   "execution_count": 35,
   "id": "04cdddfd",
   "metadata": {},
   "outputs": [],
   "source": [
    "# tf-idf(t, d) = tf(t, d) * idf(t, D)\n",
    "\n",
    "def computeTFIDF(tf, idfs):\n",
    "    tfidf = {}\n",
    "    for word, wcount in tf.items():\n",
    "        tfidf[word] = wcount*idfs[word]\n",
    "    return(tfidf)"
   ]
  },
  {
   "cell_type": "code",
   "execution_count": 36,
   "id": "9dbe6d81",
   "metadata": {},
   "outputs": [],
   "source": [
    "idf1 = computeTFIDF(tf1, idfs)\n",
    "idf2 = computeTFIDF(tf2, idfs)"
   ]
  },
  {
   "cell_type": "code",
   "execution_count": 37,
   "id": "3195e96e",
   "metadata": {},
   "outputs": [
    {
     "data": {
      "text/html": [
       "<div>\n",
       "<style scoped>\n",
       "    .dataframe tbody tr th:only-of-type {\n",
       "        vertical-align: middle;\n",
       "    }\n",
       "\n",
       "    .dataframe tbody tr th {\n",
       "        vertical-align: top;\n",
       "    }\n",
       "\n",
       "    .dataframe thead th {\n",
       "        text-align: right;\n",
       "    }\n",
       "</style>\n",
       "<table border=\"1\" class=\"dataframe\">\n",
       "  <thead>\n",
       "    <tr style=\"text-align: right;\">\n",
       "      <th></th>\n",
       "      <th>Fordi</th>\n",
       "      <th>ville</th>\n",
       "      <th>er</th>\n",
       "      <th>et</th>\n",
       "      <th>butikken</th>\n",
       "      <th>Hvorfor</th>\n",
       "      <th>cheetahs!</th>\n",
       "      <th>i</th>\n",
       "      <th>ur?</th>\n",
       "      <th>poker</th>\n",
       "      <th>...</th>\n",
       "      <th>faren</th>\n",
       "      <th>spille</th>\n",
       "      <th>der</th>\n",
       "      <th>Afrika?</th>\n",
       "      <th>ind</th>\n",
       "      <th>ikke</th>\n",
       "      <th>med</th>\n",
       "      <th>Han</th>\n",
       "      <th>gik</th>\n",
       "      <th>købe</th>\n",
       "    </tr>\n",
       "  </thead>\n",
       "  <tbody>\n",
       "    <tr>\n",
       "      <th>0</th>\n",
       "      <td>0.00000</td>\n",
       "      <td>0.036702</td>\n",
       "      <td>0.00000</td>\n",
       "      <td>0.036702</td>\n",
       "      <td>0.036702</td>\n",
       "      <td>0.023156</td>\n",
       "      <td>0.00000</td>\n",
       "      <td>0.023156</td>\n",
       "      <td>0.036702</td>\n",
       "      <td>0.00000</td>\n",
       "      <td>...</td>\n",
       "      <td>0.036702</td>\n",
       "      <td>0.00000</td>\n",
       "      <td>0.00000</td>\n",
       "      <td>0.00000</td>\n",
       "      <td>0.036702</td>\n",
       "      <td>0.00000</td>\n",
       "      <td>0.036702</td>\n",
       "      <td>0.036702</td>\n",
       "      <td>0.036702</td>\n",
       "      <td>0.036702</td>\n",
       "    </tr>\n",
       "    <tr>\n",
       "      <th>1</th>\n",
       "      <td>0.03408</td>\n",
       "      <td>0.000000</td>\n",
       "      <td>0.03408</td>\n",
       "      <td>0.000000</td>\n",
       "      <td>0.000000</td>\n",
       "      <td>0.021502</td>\n",
       "      <td>0.03408</td>\n",
       "      <td>0.021502</td>\n",
       "      <td>0.000000</td>\n",
       "      <td>0.03408</td>\n",
       "      <td>...</td>\n",
       "      <td>0.000000</td>\n",
       "      <td>0.03408</td>\n",
       "      <td>0.03408</td>\n",
       "      <td>0.03408</td>\n",
       "      <td>0.000000</td>\n",
       "      <td>0.03408</td>\n",
       "      <td>0.000000</td>\n",
       "      <td>0.000000</td>\n",
       "      <td>0.000000</td>\n",
       "      <td>0.000000</td>\n",
       "    </tr>\n",
       "  </tbody>\n",
       "</table>\n",
       "<p>2 rows × 25 columns</p>\n",
       "</div>"
      ],
      "text/plain": [
       "     Fordi     ville       er        et  butikken   Hvorfor  cheetahs!  \\\n",
       "0  0.00000  0.036702  0.00000  0.036702  0.036702  0.023156    0.00000   \n",
       "1  0.03408  0.000000  0.03408  0.000000  0.000000  0.021502    0.03408   \n",
       "\n",
       "          i       ur?    poker  ...     faren   spille      der  Afrika?  \\\n",
       "0  0.023156  0.036702  0.00000  ...  0.036702  0.00000  0.00000  0.00000   \n",
       "1  0.021502  0.000000  0.03408  ...  0.000000  0.03408  0.03408  0.03408   \n",
       "\n",
       "        ind     ikke       med       Han       gik      købe  \n",
       "0  0.036702  0.00000  0.036702  0.036702  0.036702  0.036702  \n",
       "1  0.000000  0.03408  0.000000  0.000000  0.000000  0.000000  \n",
       "\n",
       "[2 rows x 25 columns]"
      ]
     },
     "execution_count": 37,
     "metadata": {},
     "output_type": "execute_result"
    }
   ],
   "source": [
    "# store in a dataframe\n",
    "idf= pd.DataFrame([idf1, idf2])\n",
    "idf"
   ]
  },
  {
   "cell_type": "code",
   "execution_count": 38,
   "id": "88136456",
   "metadata": {},
   "outputs": [],
   "source": [
    "# Store the binary values into array\n",
    "arx = idf.to_numpy()"
   ]
  },
  {
   "cell_type": "code",
   "execution_count": 39,
   "id": "e11e4655",
   "metadata": {},
   "outputs": [
    {
     "name": "stdout",
     "output_type": "stream",
     "text": [
      "Cosine similarity:  0.06480110259101254\n"
     ]
    },
    {
     "data": {
      "text/plain": [
       "0.06480110259101254"
      ]
     },
     "execution_count": 39,
     "metadata": {},
     "output_type": "execute_result"
    }
   ],
   "source": [
    "# Test the similarity\n",
    "cosim(arx[0], arx[1])"
   ]
  },
  {
   "cell_type": "markdown",
   "id": "32f00b66",
   "metadata": {},
   "source": [
    "#### Note that Bag of Words has many negatives. E.g. it counts equaly \"John is older than Mary\" and \"Mary is older than John\""
   ]
  },
  {
   "cell_type": "markdown",
   "id": "1d7773bf",
   "metadata": {},
   "source": [
    "## Method 3: Impoving by Preprocessing"
   ]
  },
  {
   "cell_type": "code",
   "execution_count": 41,
   "id": "abcd94c6",
   "metadata": {},
   "outputs": [
    {
     "name": "stdout",
     "output_type": "stream",
     "text": [
      "Requirement already satisfied: langdetect in /Users/mikkel/anaconda3/lib/python3.11/site-packages (1.0.9)\r\n",
      "Requirement already satisfied: six in /Users/mikkel/anaconda3/lib/python3.11/site-packages (from langdetect) (1.16.0)\r\n"
     ]
    }
   ],
   "source": [
    "# !pip install langdetect"
   ]
  },
  {
   "cell_type": "code",
   "execution_count": 42,
   "id": "406e0481",
   "metadata": {},
   "outputs": [],
   "source": [
    "import langdetect\n",
    "from langdetect import detect, detect_langs"
   ]
  },
  {
   "cell_type": "code",
   "execution_count": 44,
   "id": "7c46169d",
   "metadata": {},
   "outputs": [],
   "source": [
    "import spacy\n",
    "from spacy import displacy"
   ]
  },
  {
   "cell_type": "code",
   "execution_count": 45,
   "id": "9d56a3da",
   "metadata": {},
   "outputs": [],
   "source": [
    "#!python -m spacy validate"
   ]
  },
  {
   "cell_type": "code",
   "execution_count": 46,
   "id": "9a30fa37",
   "metadata": {},
   "outputs": [],
   "source": [
    "#!python -m spacy download en_core_web_md"
   ]
  },
  {
   "cell_type": "code",
   "execution_count": 47,
   "id": "f5d8ee21",
   "metadata": {},
   "outputs": [],
   "source": [
    "#!python -m spacy download da_core_news_md"
   ]
  },
  {
   "cell_type": "code",
   "execution_count": 48,
   "id": "0260bed7",
   "metadata": {},
   "outputs": [],
   "source": [
    "def tokenize(text):\n",
    "    lang = detect(text)\n",
    "    if lang == 'en': \n",
    "        model = 'en_core_web_md'\n",
    "        from spacy.lang.en.stop_words import STOP_WORDS\n",
    "    elif lang == 'da': \n",
    "        model = 'da_core_news_md'\n",
    "        from spacy.lang.da.stop_words import STOP_WORDS\n",
    "    else:\n",
    "         print(\"Wrong language\")\n",
    "        \n",
    "    mysent = []\n",
    "    nlp = spacy.load(model)\n",
    "    doc = nlp(text)\n",
    "    \n",
    "    for token in doc:\n",
    "        if not (token.is_stop or token.is_punct or token.is_space):\n",
    "            data = {'token': token.text,'lemma': token.lemma_, 'POS': token.pos_, 'tag': token.tag_, \n",
    "                    \"ent_type\": token.ent_type_}\n",
    "            pprint.pprint(data)\n",
    "            mysent.append(token.text)\n",
    "    # spacy.displacy.serve(doc, style=\"ent\")\n",
    "    # spacy.displacy.serve(doc, style=\"dep\")\n",
    "    return mysent"
   ]
  },
  {
   "cell_type": "code",
   "execution_count": 50,
   "id": "83e8c537",
   "metadata": {},
   "outputs": [
    {
     "data": {
      "text/plain": [
       "'hvorfor gik faren ind i butikken med et ur han ville købe tid'"
      ]
     },
     "execution_count": 50,
     "metadata": {},
     "output_type": "execute_result"
    }
   ],
   "source": [
    "sent1 = clean(first_dad_joke)\n",
    "sent1"
   ]
  },
  {
   "cell_type": "code",
   "execution_count": 52,
   "id": "3ea5d9fe",
   "metadata": {},
   "outputs": [
    {
     "data": {
      "text/plain": [
       "'hvorfor kan ikke hunde spille poker i afrika fordi der er for mange cheetahs'"
      ]
     },
     "execution_count": 52,
     "metadata": {},
     "output_type": "execute_result"
    }
   ],
   "source": [
    "sent2 = clean(first_dog_joke)\n",
    "sent2"
   ]
  },
  {
   "cell_type": "code",
   "execution_count": 51,
   "id": "3217f223",
   "metadata": {},
   "outputs": [
    {
     "name": "stdout",
     "output_type": "stream",
     "text": [
      "{'POS': 'VERB', 'ent_type': '', 'lemma': 'gå', 'tag': 'VERB', 'token': 'gik'}\n",
      "{'POS': 'NOUN',\n",
      " 'ent_type': '',\n",
      " 'lemma': 'fare',\n",
      " 'tag': 'NOUN',\n",
      " 'token': 'faren'}\n",
      "{'POS': 'NOUN',\n",
      " 'ent_type': '',\n",
      " 'lemma': 'butik',\n",
      " 'tag': 'NOUN',\n",
      " 'token': 'butikken'}\n",
      "{'POS': 'NOUN', 'ent_type': '', 'lemma': 'ur', 'tag': 'NOUN', 'token': 'ur'}\n",
      "{'POS': 'VERB', 'ent_type': '', 'lemma': 'købe', 'tag': 'VERB', 'token': 'købe'}\n",
      "{'POS': 'NOUN', 'ent_type': '', 'lemma': 'tid', 'tag': 'NOUN', 'token': 'tid'}\n"
     ]
    },
    {
     "data": {
      "text/plain": [
       "['gik', 'faren', 'butikken', 'ur', 'købe', 'tid']"
      ]
     },
     "execution_count": 51,
     "metadata": {},
     "output_type": "execute_result"
    }
   ],
   "source": [
    "tok1 = tokenize(sent1)\n",
    "tok1"
   ]
  },
  {
   "cell_type": "code",
   "execution_count": 53,
   "id": "ffd595f1",
   "metadata": {},
   "outputs": [
    {
     "name": "stdout",
     "output_type": "stream",
     "text": [
      "{'POS': 'NOUN',\n",
      " 'ent_type': '',\n",
      " 'lemma': 'hund',\n",
      " 'tag': 'NOUN',\n",
      " 'token': 'hunde'}\n",
      "{'POS': 'VERB',\n",
      " 'ent_type': '',\n",
      " 'lemma': 'spille',\n",
      " 'tag': 'VERB',\n",
      " 'token': 'spille'}\n",
      "{'POS': 'NOUN',\n",
      " 'ent_type': '',\n",
      " 'lemma': 'poker',\n",
      " 'tag': 'NOUN',\n",
      " 'token': 'poker'}\n",
      "{'POS': 'NOUN',\n",
      " 'ent_type': 'LOC',\n",
      " 'lemma': 'afrika',\n",
      " 'tag': 'NOUN',\n",
      " 'token': 'afrika'}\n",
      "{'POS': 'NOUN',\n",
      " 'ent_type': '',\n",
      " 'lemma': 'cheetahs',\n",
      " 'tag': 'NOUN',\n",
      " 'token': 'cheetahs'}\n"
     ]
    },
    {
     "data": {
      "text/plain": [
       "['hunde', 'spille', 'poker', 'afrika', 'cheetahs']"
      ]
     },
     "execution_count": 53,
     "metadata": {},
     "output_type": "execute_result"
    }
   ],
   "source": [
    "tok2 = tokenize(sent2)\n",
    "tok2"
   ]
  },
  {
   "cell_type": "code",
   "execution_count": 56,
   "id": "c69cb382",
   "metadata": {},
   "outputs": [
    {
     "data": {
      "text/html": [
       "<div>\n",
       "<style scoped>\n",
       "    .dataframe tbody tr th:only-of-type {\n",
       "        vertical-align: middle;\n",
       "    }\n",
       "\n",
       "    .dataframe tbody tr th {\n",
       "        vertical-align: top;\n",
       "    }\n",
       "\n",
       "    .dataframe thead th {\n",
       "        text-align: right;\n",
       "    }\n",
       "</style>\n",
       "<table border=\"1\" class=\"dataframe\">\n",
       "  <thead>\n",
       "    <tr style=\"text-align: right;\">\n",
       "      <th></th>\n",
       "      <th>0</th>\n",
       "      <th>1</th>\n",
       "      <th>2</th>\n",
       "      <th>3</th>\n",
       "      <th>4</th>\n",
       "      <th>5</th>\n",
       "    </tr>\n",
       "  </thead>\n",
       "  <tbody>\n",
       "    <tr>\n",
       "      <th>0</th>\n",
       "      <td>gik</td>\n",
       "      <td>faren</td>\n",
       "      <td>butikken</td>\n",
       "      <td>ur</td>\n",
       "      <td>købe</td>\n",
       "      <td>tid</td>\n",
       "    </tr>\n",
       "    <tr>\n",
       "      <th>1</th>\n",
       "      <td>hunde</td>\n",
       "      <td>spille</td>\n",
       "      <td>poker</td>\n",
       "      <td>afrika</td>\n",
       "      <td>cheetahs</td>\n",
       "      <td>None</td>\n",
       "    </tr>\n",
       "  </tbody>\n",
       "</table>\n",
       "</div>"
      ],
      "text/plain": [
       "       0       1         2       3         4     5\n",
       "0    gik   faren  butikken      ur      købe   tid\n",
       "1  hunde  spille     poker  afrika  cheetahs  None"
      ]
     },
     "execution_count": 56,
     "metadata": {},
     "output_type": "execute_result"
    }
   ],
   "source": [
    "dfc = pd.DataFrame([tok1, tok2])\n",
    "dfc"
   ]
  },
  {
   "cell_type": "code",
   "execution_count": 57,
   "id": "2a99962e",
   "metadata": {},
   "outputs": [],
   "source": [
    "# Konverter data frame til numpy array\n",
    "arc = dfc.to_numpy()"
   ]
  },
  {
   "cell_type": "code",
   "execution_count": 59,
   "id": "c86828c1",
   "metadata": {},
   "outputs": [
    {
     "name": "stdout",
     "output_type": "stream",
     "text": [
      "Cosine similarity:  0.06480110259101254\n"
     ]
    },
    {
     "data": {
      "text/plain": [
       "0.06480110259101254"
      ]
     },
     "execution_count": 59,
     "metadata": {},
     "output_type": "execute_result"
    }
   ],
   "source": [
    "# Test the similarity\n",
    "cosim(arx[0], arx[1])"
   ]
  },
  {
   "cell_type": "code",
   "execution_count": null,
   "id": "8dd22349",
   "metadata": {},
   "outputs": [],
   "source": []
  }
 ],
 "metadata": {
  "kernelspec": {
   "display_name": "Python 3 (ipykernel)",
   "language": "python",
   "name": "python3"
  },
  "language_info": {
   "codemirror_mode": {
    "name": "ipython",
    "version": 3
   },
   "file_extension": ".py",
   "mimetype": "text/x-python",
   "name": "python",
   "nbconvert_exporter": "python",
   "pygments_lexer": "ipython3",
   "version": "3.11.5"
  }
 },
 "nbformat": 4,
 "nbformat_minor": 5
}
