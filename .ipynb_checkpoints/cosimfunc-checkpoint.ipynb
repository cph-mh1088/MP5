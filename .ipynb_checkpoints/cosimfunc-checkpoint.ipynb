{
 "cells": [
  {
   "cell_type": "code",
   "execution_count": 1,
   "id": "dea6e948",
   "metadata": {},
   "outputs": [
    {
     "name": "stdout",
     "output_type": "stream",
     "text": [
      "Writing cosimfunc.py\n"
     ]
    }
   ],
   "source": [
    "%%writefile cosimfunc.py\n",
    "import numpy as np\n",
    "import math\n",
    "\n",
    "# calculate coeficient of cosine similarity between two vectors\n",
    "def cosim(vector1, vector2) -> float:\n",
    "    \n",
    "    # nominator as a dot product\n",
    "    nominator = sum([i*j for (i, j) in zip(vector1, vector2)])\n",
    "    \n",
    "    # denominator as a product of two magnitudes \n",
    "    # call the second function below\n",
    "    mag1 = magnitude(vector1)    \n",
    "    mag2 = magnitude(vector2)\n",
    "    denominator = mag1 * mag2\n",
    "    \n",
    "    # divide\n",
    "    if not denominator:  # we cannot divide if it is null\n",
    "         sim = 0.0\n",
    "    else:\n",
    "         sim = float(nominator)/denominator\n",
    "    print('Cosine similarity: ', sim)\n",
    "    return sim\n",
    "\n",
    "# calculate one magnitude\n",
    "def magnitude(v) -> float:\n",
    "    # square() returns the element-wise square of the input\n",
    "    # math.sqrt() returns sqrt of a number\n",
    "    mag = math.sqrt(sum(np.square(v))) \n",
    "    return mag"
   ]
  },
  {
   "cell_type": "code",
   "execution_count": null,
   "id": "e912dfac",
   "metadata": {},
   "outputs": [],
   "source": []
  }
 ],
 "metadata": {
  "kernelspec": {
   "display_name": "Python 3 (ipykernel)",
   "language": "python",
   "name": "python3"
  },
  "language_info": {
   "codemirror_mode": {
    "name": "ipython",
    "version": 3
   },
   "file_extension": ".py",
   "mimetype": "text/x-python",
   "name": "python",
   "nbconvert_exporter": "python",
   "pygments_lexer": "ipython3",
   "version": "3.11.5"
  }
 },
 "nbformat": 4,
 "nbformat_minor": 5
}
